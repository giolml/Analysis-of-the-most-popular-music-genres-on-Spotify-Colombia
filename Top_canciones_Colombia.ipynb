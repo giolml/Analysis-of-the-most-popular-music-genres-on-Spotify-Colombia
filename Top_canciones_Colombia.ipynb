{
  "nbformat": 4,
  "nbformat_minor": 0,
  "metadata": {
    "colab": {
      "provenance": []
    },
    "kernelspec": {
      "name": "python3",
      "display_name": "Python 3"
    },
    "language_info": {
      "name": "python"
    }
  },
  "cells": [
    {
      "cell_type": "code",
      "execution_count": null,
      "metadata": {
        "colab": {
          "base_uri": "https://localhost:8080/"
        },
        "id": "qyAUuqONqpj2",
        "outputId": "37614f65-7c7a-4e01-cf20-f9b3e0b2ef24"
      },
      "outputs": [
        {
          "output_type": "stream",
          "name": "stdout",
          "text": [
            "Looking in indexes: https://pypi.org/simple, https://us-python.pkg.dev/colab-wheels/public/simple/\n",
            "Collecting spotipy\n",
            "  Downloading spotipy-2.23.0-py3-none-any.whl (29 kB)\n",
            "Collecting redis>=3.5.3 (from spotipy)\n",
            "  Downloading redis-4.5.5-py3-none-any.whl (240 kB)\n",
            "\u001b[2K     \u001b[90m━━━━━━━━━━━━━━━━━━━━━━━━━━━━━━━━━━━━━━━\u001b[0m \u001b[32m240.3/240.3 kB\u001b[0m \u001b[31m7.6 MB/s\u001b[0m eta \u001b[36m0:00:00\u001b[0m\n",
            "\u001b[?25hRequirement already satisfied: requests>=2.25.0 in /usr/local/lib/python3.10/dist-packages (from spotipy) (2.27.1)\n",
            "Requirement already satisfied: six>=1.15.0 in /usr/local/lib/python3.10/dist-packages (from spotipy) (1.16.0)\n",
            "Requirement already satisfied: urllib3>=1.26.0 in /usr/local/lib/python3.10/dist-packages (from spotipy) (1.26.15)\n",
            "Collecting async-timeout>=4.0.2 (from redis>=3.5.3->spotipy)\n",
            "  Downloading async_timeout-4.0.2-py3-none-any.whl (5.8 kB)\n",
            "Requirement already satisfied: certifi>=2017.4.17 in /usr/local/lib/python3.10/dist-packages (from requests>=2.25.0->spotipy) (2022.12.7)\n",
            "Requirement already satisfied: charset-normalizer~=2.0.0 in /usr/local/lib/python3.10/dist-packages (from requests>=2.25.0->spotipy) (2.0.12)\n",
            "Requirement already satisfied: idna<4,>=2.5 in /usr/local/lib/python3.10/dist-packages (from requests>=2.25.0->spotipy) (3.4)\n",
            "Installing collected packages: async-timeout, redis, spotipy\n",
            "Successfully installed async-timeout-4.0.2 redis-4.5.5 spotipy-2.23.0\n"
          ]
        }
      ],
      "source": [
        "!pip install spotipy"
      ]
    },
    {
      "cell_type": "code",
      "source": [
        "import csv\n",
        "import spotipy\n",
        "from spotipy.oauth2 import SpotifyClientCredentials\n",
        "import zipfile\n",
        "\n",
        "# Configuración de las credenciales de la API de Spotify\n",
        "client_id = 'TU_CLIENT_ID'\n",
        "client_secret = 'TU_CLIENT_SECRET'\n",
        "client_credentials_manager = SpotifyClientCredentials(client_id=client_id, client_secret=client_secret)\n",
        "sp = spotipy.Spotify(client_credentials_manager=client_credentials_manager)\n",
        "\n",
        "# Lista de géneros que deseas extraer\n",
        "generos = ['pop', 'rock', 'hip-hop', 'electrónica']\n",
        "\n",
        "# Función para obtener las canciones populares de un género específico\n",
        "def obtener_top_canciones_por_genero(genero):\n",
        "    # Realizar consulta a la API de Spotify para obtener las canciones más populares de Colombia\n",
        "    results = sp.search(q=f'genre:\"{genero}\"', type='track', market='CO', limit=50)\n",
        "    tracks = results['tracks']['items']\n",
        "\n",
        "    # Crear una lista con la información relevante de cada canción\n",
        "    lista_canciones = []\n",
        "    for track in tracks:\n",
        "        nombre_cancion = track['name']\n",
        "        artistas = ', '.join([artista['name'] for artista in track['artists']])\n",
        "        popularidad = track['popularity']\n",
        "        lista_canciones.append([nombre_cancion, artistas, popularidad])\n",
        "\n",
        "    return lista_canciones\n",
        "\n",
        "# Obtener las canciones populares por género y guardarlas en archivos CSV separados\n",
        "for genero in generos:\n",
        "    canciones = obtener_top_canciones_por_genero(genero)\n",
        "\n",
        "    # Guardar los datos en un archivo CSV\n",
        "    with open(f'{genero}_top_canciones.csv', 'w', newline='', encoding='utf-8') as file:\n",
        "        writer = csv.writer(file)\n",
        "        writer.writerow(['Nombre de la canción', 'Artistas', 'Popularidad'])\n",
        "        writer.writerows(canciones)\n",
        "\n",
        "    print(f'Se han guardado las canciones populares de {genero} en el archivo {genero}_top_canciones.csv.')\n",
        "\n",
        "# Comprimir los archivos CSV en un archivo ZIP\n",
        "with zipfile.ZipFile('canciones.zip', 'w') as zipf:\n",
        "    for genero in generos:\n",
        "        zipf.write(f'{genero}_top_canciones.csv')\n",
        "\n",
        "print('Los archivos CSV se han comprimido en el archivo canciones.zip.')"
      ],
      "metadata": {
        "colab": {
          "base_uri": "https://localhost:8080/"
        },
        "id": "0F7QM2Tb8nYT",
        "outputId": "72c287ad-fe04-42f8-c3d3-95afa9172eaa"
      },
      "execution_count": null,
      "outputs": [
        {
          "output_type": "stream",
          "name": "stdout",
          "text": [
            "Se han guardado las canciones populares de pop en el archivo pop_top_canciones.csv.\n",
            "Se han guardado las canciones populares de rock en el archivo rock_top_canciones.csv.\n",
            "Se han guardado las canciones populares de hip-hop en el archivo hip-hop_top_canciones.csv.\n",
            "Se han guardado las canciones populares de electrónica en el archivo electrónica_top_canciones.csv.\n",
            "Los archivos CSV se han comprimido en el archivo canciones.zip.\n"
          ]
        }
      ]
    }
  ]
}